{
 "cells": [
  {
   "cell_type": "markdown",
   "metadata": {},
   "source": [
    "# Decision tree\n",
    "\n",
    "In this program, we take a matrix of items and responses to questions about them, and construct a decision tree based on that matrix, that allows to identify the item by just a few responses.\n",
    "The algorithm uses the heuristic that the most optimal way is to ask questions that leave roughly half items available."
   ]
  },
  {
   "cell_type": "code",
   "execution_count": 1,
   "metadata": {},
   "outputs": [],
   "source": [
    "import numpy as np\n",
    "import matplotlib.pyplot as plt\n",
    "import random"
   ]
  },
  {
   "cell_type": "code",
   "execution_count": 2,
   "metadata": {},
   "outputs": [],
   "source": [
    "questions = [\n",
    "    'red?',\n",
    "    'sweet?',\n",
    "    'yellow?',\n",
    "    'peel?',\n",
    "]"
   ]
  },
  {
   "cell_type": "code",
   "execution_count": 3,
   "metadata": {},
   "outputs": [],
   "source": [
    "# 0 -- no knowledge (unacceptable)\n",
    "# 1 -- we know no\n",
    "# 2 -- we know yes\n",
    "# 3 -- both yes or/and no\n",
    "answers = {\n",
    "    'banana': (1,  2,  2,  2),\n",
    "    'apple' : (2,  2,  1,  1),\n",
    "    'berry' : (2,  1,  1,  1),\n",
    "    'orange': (1,  3,  1,  2),\n",
    "    'grape' : (1,  1,  1,  2),\n",
    "    'lemon' : (1,  1,  2,  2),\n",
    "}"
   ]
  },
  {
   "cell_type": "code",
   "execution_count": 4,
   "metadata": {},
   "outputs": [],
   "source": [
    "is_yes = lambda x: (x & 2) != 0\n",
    "is_no  = lambda x: (x & 1) != 0"
   ]
  },
  {
   "cell_type": "code",
   "execution_count": 5,
   "metadata": {},
   "outputs": [
    {
     "name": "stdout",
     "output_type": "stream",
     "text": [
      "['red?', 'sweet?', 'yellow?', 'peel?']\n",
      "{'banana': (1, 2, 2, 2), 'apple': (2, 2, 1, 1), 'berry': (2, 1, 1, 1), 'orange': (1, 3, 1, 2), 'grape': (1, 1, 1, 2), 'lemon': (1, 1, 2, 2)}\n"
     ]
    }
   ],
   "source": [
    "print(questions)\n",
    "print(answers)"
   ]
  },
  {
   "cell_type": "code",
   "execution_count": 6,
   "metadata": {},
   "outputs": [
    {
     "name": "stdout",
     "output_type": "stream",
     "text": [
      "[2, 3, 2, 4]\n",
      "[4, 4, 4, 2]\n",
      "[2, 1, 2, 2]\n",
      "\n"
     ]
    }
   ],
   "source": [
    "yeses = [ set(k for k,v in answers.items() if is_yes(v[i])) for i in range(len(questions)) ]\n",
    "noes  = [ set(k for k,v in answers.items() if is_no (v[i])) for i in range(len(questions)) ]\n",
    "yes_lens = [len(s) for s in yeses]\n",
    "no_lens  = [len(s) for s in noes ]\n",
    "min_lens = [abs(a-b) for a, b in zip(yes_lens, no_lens)]\n",
    "# return (list(i for i in range(len(min_lens)) if min_lens[i] == min(min_lens)))[0]\n",
    "\n",
    "print(yes_lens)\n",
    "print(no_lens)\n",
    "print(min_lens)\n",
    "print()"
   ]
  },
  {
   "cell_type": "code",
   "execution_count": 7,
   "metadata": {},
   "outputs": [],
   "source": [
    "def eliminate_questions(set_elim, questions, answers):\n",
    "    nq = len(questions)\n",
    "    questions = [questions[i] for i in range(nq) if i not in set_elim]\n",
    "    answers = {k: tuple(v[i] for i in range(nq) if i not in set_elim) \\\n",
    "                   for k,v in answers.items()}\n",
    "    return questions, answers"
   ]
  },
  {
   "cell_type": "code",
   "execution_count": 8,
   "metadata": {},
   "outputs": [],
   "source": [
    "# return sets where the ith question is answered yes or no\n",
    "def split_fruits(i, answers):\n",
    "    return set(k for k,v in answers.items() if is_yes(v[i])), \\\n",
    "           set(k for k,v in answers.items() if is_no (v[i]))"
   ]
  },
  {
   "cell_type": "code",
   "execution_count": 9,
   "metadata": {},
   "outputs": [
    {
     "data": {
      "text/plain": [
       "(True, False, True)"
      ]
     },
     "execution_count": 9,
     "metadata": {},
     "output_type": "execute_result"
    }
   ],
   "source": [
    "def compare_answer_lists(A, B):\n",
    "    return all(a == b or a == -1 or b == -1 for a, b in zip(A, B))\n",
    "(compare_answer_lists((0,0,1,0), (0,0,1,0)),\n",
    "compare_answer_lists((0,0,1,0), (0,0,1,1)),\n",
    "compare_answer_lists((0,0,-1,0), (0,0,1,0)))"
   ]
  },
  {
   "cell_type": "code",
   "execution_count": 10,
   "metadata": {},
   "outputs": [],
   "source": [
    "def whatever(questions, answers):\n",
    "    \n",
    "#     print('calling whatever with {} questions and {} answers'.format(len(questions), len(answers)))\n",
    "#     print(questions)\n",
    "#     print(answers)\n",
    "        \n",
    "    answers_list = list(answers.values())\n",
    "    if len(answers) == 1 or all(compare_answer_lists(answers_list[i], answers_list[0]) for i in range(len(answers))): \n",
    "#         print('i have found {}'.format(set(answers.keys())))\n",
    "        return set(answers.keys())\n",
    "\n",
    "    to_remove = set()\n",
    "    \n",
    "    for i in range(len(questions)):\n",
    "        branch_yes, branch_no = split_fruits(i, answers)\n",
    "\n",
    "        if len(branch_yes) == 0 or len(branch_no) == 0: \n",
    "            to_remove.add(i)\n",
    "\n",
    "    if len(to_remove) > 0:\n",
    "        questions, answers = eliminate_questions(to_remove, questions, answers)\n",
    "#         print('cleaned up')\n",
    "#         print(questions)\n",
    "#         print(answers)\n",
    "    \n",
    "    # we decide which question to branch from.\n",
    "    # in a better than random heuristic, we should have equal amount of hard yes and noes\n",
    "    ibranch = random.randrange(len(questions))\n",
    "    branch_yes, branch_no = split_fruits(ibranch, answers)\n",
    "    answers_yes = {k: answers[k] for k in branch_yes}\n",
    "    answers_no  = {k: answers[k] for k in branch_no }\n",
    "    \n",
    "    # we should assume yes/no wherever a 'do not know' occurs\n",
    "    # or we can just remove this question and do not wait for it to be removed by\n",
    "    # a recursive call. both are equivalent\n",
    "    questions_yes, answers_yes = eliminate_questions([ibranch], questions, answers_yes)\n",
    "    questions_no , answers_no  = eliminate_questions([ibranch], questions, answers_no )\n",
    "    \n",
    "    returnv = (questions[ibranch], whatever(questions_yes, answers_yes), \n",
    "            whatever(questions_no, answers_no))\n",
    "#     print('trying to return {}'.format(returnv))\n",
    "    return returnv\n",
    "    \n",
    "    \n",
    "result = whatever(questions, answers)"
   ]
  },
  {
   "cell_type": "code",
   "execution_count": 11,
   "metadata": {
    "scrolled": false
   },
   "outputs": [
    {
     "name": "stdout",
     "output_type": "stream",
     "text": [
      "yellow?\n",
      "|  yes:\n",
      "|    sweet?\n",
      "|    |  yes:\n",
      "|    |---→ {'banana'}\n",
      "|    |  no:\n",
      "|    |---→ {'lemon'}\n",
      "|  no:\n",
      "|    red?\n",
      "|    |  yes:\n",
      "|    |    sweet?\n",
      "|    |    |  yes:\n",
      "|    |    |---→ {'apple'}\n",
      "|    |    |  no:\n",
      "|    |    |---→ {'berry'}\n",
      "|    |  no:\n",
      "|    |    sweet?\n",
      "|    |    |  yes:\n",
      "|    |    |---→ {'orange'}\n",
      "|    |    |  no:\n",
      "|    |    |---→ {'orange', 'grape'}\n"
     ]
    }
   ],
   "source": [
    "def print_result(result, ind=''):\n",
    "    question, result_yes, result_no = result\n",
    "    \n",
    "    print(ind + question)\n",
    "    \n",
    "    print(ind + '|  yes:')\n",
    "    \n",
    "    if type(result_yes) == tuple:\n",
    "        print_result(result_yes, ind=ind+'|    ')\n",
    "    else:\n",
    "        print(ind + '|---\\u2192 {}'.format(result_yes))\n",
    "        \n",
    "    print(ind + '|  no:')\n",
    "    \n",
    "    if type(result_no) == tuple:\n",
    "        print_result(result_no, ind=ind+'|    ')\n",
    "    else:\n",
    "        print(ind + '|---\\u2192 {}'.format(result_no))\n",
    "        \n",
    "print_result(result)"
   ]
  },
  {
   "cell_type": "code",
   "execution_count": 12,
   "metadata": {},
   "outputs": [
    {
     "name": "stdout",
     "output_type": "stream",
     "text": [
      "['red?', 'sweet?', 'yellow?', 'peel?']\n",
      "{'banana': (1, 2, 2, 2), 'apple': (2, 2, 1, 1), 'berry': (2, 1, 1, 1), 'orange': (1, 3, 1, 2), 'grape': (1, 1, 1, 2), 'lemon': (1, 1, 2, 2)}\n"
     ]
    }
   ],
   "source": [
    "print(questions)\n",
    "print(answers)"
   ]
  }
 ],
 "metadata": {
  "kernelspec": {
   "display_name": "Python 3",
   "language": "python",
   "name": "python3"
  },
  "language_info": {
   "codemirror_mode": {
    "name": "ipython",
    "version": 3
   },
   "file_extension": ".py",
   "mimetype": "text/x-python",
   "name": "python",
   "nbconvert_exporter": "python",
   "pygments_lexer": "ipython3",
   "version": "3.9.6"
  }
 },
 "nbformat": 4,
 "nbformat_minor": 4
}
